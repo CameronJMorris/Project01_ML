{
 "cells": [
  {
   "metadata": {},
   "cell_type": "markdown",
   "source": "Running the Drive",
   "id": "99aa96bfb6d26c01"
  },
  {
   "cell_type": "code",
   "id": "initial_id",
   "metadata": {
    "collapsed": true,
    "ExecuteTime": {
     "end_time": "2024-09-26T07:40:26.800222Z",
     "start_time": "2024-09-26T07:39:23.410800Z"
    }
   },
   "source": [
    "from Simulate import *\n",
    "from Drive import *\n",
    "\n",
    "s = Simulate()\n",
    "\n",
    "d = Drive(s.data, \"BUF\", \"CIN\", 25, 1000)\n",
    "play = []\n",
    "while play != [0,0,0,0,0,0]:\n",
    "    play = d.Play(play)"
   ],
   "outputs": [
    {
     "name": "stdout",
     "output_type": "stream",
     "text": [
      "Bills rush for 5 yards\n",
      "Bills rush for 4 yards\n",
      "Bills rush for 6 yards\n",
      "Bills rush for 4 yards\n",
      "Bills rush for 4 yards\n",
      "Bills rush for 4 yards\n",
      "Bills rush for 7 yards\n",
      "Bills pass for 0 yards\n",
      "Bills rush for 7 yards\n",
      "Bills rush for 5 yards\n",
      "Bills rush for 5 yards\n",
      "Bills pass for 0 yards\n",
      "Bills rush for 6 yards\n",
      "Bills rush for 2 yards\n",
      "26 yard field goal\n"
     ]
    }
   ],
   "execution_count": 8
  }
 ],
 "metadata": {
  "kernelspec": {
   "display_name": "Python 3",
   "language": "python",
   "name": "python3"
  },
  "language_info": {
   "codemirror_mode": {
    "name": "ipython",
    "version": 2
   },
   "file_extension": ".py",
   "mimetype": "text/x-python",
   "name": "python",
   "nbconvert_exporter": "python",
   "pygments_lexer": "ipython2",
   "version": "2.7.6"
  }
 },
 "nbformat": 4,
 "nbformat_minor": 5
}
